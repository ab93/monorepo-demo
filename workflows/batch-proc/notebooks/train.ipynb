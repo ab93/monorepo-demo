{
 "cells": [
  {
   "metadata": {
    "ExecuteTime": {
     "end_time": "2025-02-07T02:37:43.158778Z",
     "start_time": "2025-02-07T02:37:43.147125Z"
    }
   },
   "cell_type": "code",
   "source": [
    "%load_ext autoreload\n",
    "%autoreload 2"
   ],
   "id": "899cd091534dd522",
   "outputs": [],
   "execution_count": 1
  },
  {
   "cell_type": "code",
   "id": "initial_id",
   "metadata": {
    "collapsed": true,
    "ExecuteTime": {
     "end_time": "2025-02-07T02:37:44.105364Z",
     "start_time": "2025-02-07T02:37:43.789585Z"
    }
   },
   "source": "from data_connector import DummyDataFetcher",
   "outputs": [],
   "execution_count": 2
  },
  {
   "metadata": {
    "ExecuteTime": {
     "end_time": "2025-02-07T02:38:27.977550Z",
     "start_time": "2025-02-07T02:38:27.961781Z"
    }
   },
   "cell_type": "code",
   "source": [
    "fetcher = DummyDataFetcher()\n",
    "x_train, y_train = fetcher.fetch(1000)\n",
    "x_train.shape, y_train.shape"
   ],
   "id": "579adf6867ae9a40",
   "outputs": [
    {
     "data": {
      "text/plain": [
       "((1000, 3), (1000,))"
      ]
     },
     "execution_count": 7,
     "metadata": {},
     "output_type": "execute_result"
    }
   ],
   "execution_count": 7
  },
  {
   "metadata": {
    "ExecuteTime": {
     "end_time": "2025-02-06T21:02:47.386302Z",
     "start_time": "2025-02-06T21:02:47.317386Z"
    }
   },
   "cell_type": "code",
   "source": [
    "from fraud_ml.model import FraudModel\n",
    "model = FraudModel()\n",
    "model.fit(x_train, y_train)"
   ],
   "id": "af8a8f182a283504",
   "outputs": [],
   "execution_count": 12
  },
  {
   "metadata": {
    "ExecuteTime": {
     "end_time": "2025-02-06T21:07:26.234003Z",
     "start_time": "2025-02-06T21:07:26.217777Z"
    }
   },
   "cell_type": "code",
   "source": [
    "from data_connector import ModelManager\n",
    "import pickle\n",
    "\n",
    "manager = ModelManager(\"some/path/to/model\")\n",
    "manager.save_model(pickle.dumps(model))"
   ],
   "id": "5b8fec43b32ce497",
   "outputs": [
    {
     "name": "stdout",
     "output_type": "stream",
     "text": [
      "Saving model...\n"
     ]
    }
   ],
   "execution_count": 15
  }
 ],
 "metadata": {
  "kernelspec": {
   "display_name": "Python 3",
   "language": "python",
   "name": "python3"
  },
  "language_info": {
   "codemirror_mode": {
    "name": "ipython",
    "version": 2
   },
   "file_extension": ".py",
   "mimetype": "text/x-python",
   "name": "python",
   "nbconvert_exporter": "python",
   "pygments_lexer": "ipython2",
   "version": "2.7.6"
  }
 },
 "nbformat": 4,
 "nbformat_minor": 5
}
