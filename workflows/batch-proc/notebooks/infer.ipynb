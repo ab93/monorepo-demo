{
 "cells": [
  {
   "cell_type": "code",
   "id": "initial_id",
   "metadata": {
    "collapsed": true,
    "ExecuteTime": {
     "end_time": "2025-02-08T03:29:41.319785Z",
     "start_time": "2025-02-08T03:29:41.305846Z"
    }
   },
   "source": [
    "%load_ext autoreload\n",
    "%autoreload 2"
   ],
   "outputs": [],
   "execution_count": 1
  },
  {
   "metadata": {
    "ExecuteTime": {
     "end_time": "2025-02-08T03:32:47.113664Z",
     "start_time": "2025-02-08T03:32:47.099987Z"
    }
   },
   "cell_type": "code",
   "source": [
    "from data_connector import DummyDataFetcher\n",
    "\n",
    "fetcher = DummyDataFetcher()\n",
    "x_test, _ = fetcher.fetch(100)\n",
    "x_test.shape"
   ],
   "id": "9a0bfd41c3bae7fc",
   "outputs": [
    {
     "data": {
      "text/plain": [
       "(100, 3)"
      ]
     },
     "execution_count": 7,
     "metadata": {},
     "output_type": "execute_result"
    }
   ],
   "execution_count": 7
  },
  {
   "metadata": {
    "ExecuteTime": {
     "end_time": "2025-02-08T03:32:47.770988Z",
     "start_time": "2025-02-08T03:32:47.761310Z"
    }
   },
   "cell_type": "code",
   "source": [
    "from fraud_ml import FraudModel\n",
    "from data_connector import ModelManager\n",
    "\n",
    "manager = ModelManager(\"some/path/to/model\")\n",
    "weights = manager.load_model_weights(\"fraud_model\", \"v1\")\n",
    "model = FraudModel.from_weights(weights)"
   ],
   "id": "9b0edd13052d8180",
   "outputs": [],
   "execution_count": 8
  },
  {
   "metadata": {
    "ExecuteTime": {
     "end_time": "2025-02-08T03:32:48.397314Z",
     "start_time": "2025-02-08T03:32:48.383977Z"
    }
   },
   "cell_type": "code",
   "source": [
    "y_test_pred = model.predict(x_test)\n",
    "y_test_pred.shape"
   ],
   "id": "37d543c53e478dcf",
   "outputs": [
    {
     "data": {
      "text/plain": [
       "(100,)"
      ]
     },
     "execution_count": 9,
     "metadata": {},
     "output_type": "execute_result"
    }
   ],
   "execution_count": 9
  }
 ],
 "metadata": {
  "kernelspec": {
   "display_name": "Python 3",
   "language": "python",
   "name": "python3"
  },
  "language_info": {
   "codemirror_mode": {
    "name": "ipython",
    "version": 2
   },
   "file_extension": ".py",
   "mimetype": "text/x-python",
   "name": "python",
   "nbconvert_exporter": "python",
   "pygments_lexer": "ipython2",
   "version": "2.7.6"
  }
 },
 "nbformat": 4,
 "nbformat_minor": 5
}
