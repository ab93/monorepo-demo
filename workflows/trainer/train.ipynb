{
 "cells": [
  {
   "metadata": {
    "ExecuteTime": {
     "end_time": "2025-02-06T20:59:53.137336Z",
     "start_time": "2025-02-06T20:59:53.108573Z"
    }
   },
   "cell_type": "code",
   "source": [
    "%load_ext autoreload\n",
    "%autoreload 2"
   ],
   "id": "899cd091534dd522",
   "outputs": [
    {
     "name": "stdout",
     "output_type": "stream",
     "text": [
      "The autoreload extension is already loaded. To reload it, use:\n",
      "  %reload_ext autoreload\n"
     ]
    }
   ],
   "execution_count": 4
  },
  {
   "cell_type": "code",
   "id": "initial_id",
   "metadata": {
    "collapsed": true,
    "ExecuteTime": {
     "end_time": "2025-02-06T21:02:11.886056Z",
     "start_time": "2025-02-06T21:02:11.773016Z"
    }
   },
   "source": "from data_connector import DummyDataFetcher",
   "outputs": [],
   "execution_count": 8
  },
  {
   "metadata": {
    "ExecuteTime": {
     "end_time": "2025-02-06T21:02:34.649631Z",
     "start_time": "2025-02-06T21:02:34.632659Z"
    }
   },
   "cell_type": "code",
   "source": [
    "fetcher = DummyDataFetcher()\n",
    "x_train, y_train = fetcher.fetch(1000)\n",
    "x_train.head()"
   ],
   "id": "579adf6867ae9a40",
   "outputs": [
    {
     "data": {
      "text/plain": [
       "     amount  merchant_score  risk_level\n",
       "0  0.874762        0.507851    0.014462\n",
       "1 -1.246536       -1.555765    0.076232\n",
       "2 -0.560606        2.257783   -0.728833\n",
       "3 -0.282122        1.585423   -0.714219\n",
       "4  0.792281       -0.683878   -0.054718"
      ],
      "text/html": [
       "<div>\n",
       "<style scoped>\n",
       "    .dataframe tbody tr th:only-of-type {\n",
       "        vertical-align: middle;\n",
       "    }\n",
       "\n",
       "    .dataframe tbody tr th {\n",
       "        vertical-align: top;\n",
       "    }\n",
       "\n",
       "    .dataframe thead th {\n",
       "        text-align: right;\n",
       "    }\n",
       "</style>\n",
       "<table border=\"1\" class=\"dataframe\">\n",
       "  <thead>\n",
       "    <tr style=\"text-align: right;\">\n",
       "      <th></th>\n",
       "      <th>amount</th>\n",
       "      <th>merchant_score</th>\n",
       "      <th>risk_level</th>\n",
       "    </tr>\n",
       "  </thead>\n",
       "  <tbody>\n",
       "    <tr>\n",
       "      <th>0</th>\n",
       "      <td>0.874762</td>\n",
       "      <td>0.507851</td>\n",
       "      <td>0.014462</td>\n",
       "    </tr>\n",
       "    <tr>\n",
       "      <th>1</th>\n",
       "      <td>-1.246536</td>\n",
       "      <td>-1.555765</td>\n",
       "      <td>0.076232</td>\n",
       "    </tr>\n",
       "    <tr>\n",
       "      <th>2</th>\n",
       "      <td>-0.560606</td>\n",
       "      <td>2.257783</td>\n",
       "      <td>-0.728833</td>\n",
       "    </tr>\n",
       "    <tr>\n",
       "      <th>3</th>\n",
       "      <td>-0.282122</td>\n",
       "      <td>1.585423</td>\n",
       "      <td>-0.714219</td>\n",
       "    </tr>\n",
       "    <tr>\n",
       "      <th>4</th>\n",
       "      <td>0.792281</td>\n",
       "      <td>-0.683878</td>\n",
       "      <td>-0.054718</td>\n",
       "    </tr>\n",
       "  </tbody>\n",
       "</table>\n",
       "</div>"
      ]
     },
     "execution_count": 11,
     "metadata": {},
     "output_type": "execute_result"
    }
   ],
   "execution_count": 11
  },
  {
   "metadata": {
    "ExecuteTime": {
     "end_time": "2025-02-06T21:02:47.386302Z",
     "start_time": "2025-02-06T21:02:47.317386Z"
    }
   },
   "cell_type": "code",
   "source": [
    "from fraud_ml.model import FraudModel\n",
    "model = FraudModel()\n",
    "model.fit(x_train, y_train)"
   ],
   "id": "af8a8f182a283504",
   "outputs": [],
   "execution_count": 12
  },
  {
   "metadata": {
    "ExecuteTime": {
     "end_time": "2025-02-06T21:07:26.234003Z",
     "start_time": "2025-02-06T21:07:26.217777Z"
    }
   },
   "cell_type": "code",
   "source": [
    "from data_connector import ModelManager\n",
    "import pickle\n",
    "\n",
    "manager = ModelManager(\"some/path/to/model\")\n",
    "manager.save_model(pickle.dumps(model))"
   ],
   "id": "5b8fec43b32ce497",
   "outputs": [
    {
     "name": "stdout",
     "output_type": "stream",
     "text": [
      "Saving model...\n"
     ]
    }
   ],
   "execution_count": 15
  }
 ],
 "metadata": {
  "kernelspec": {
   "display_name": "Python 3",
   "language": "python",
   "name": "python3"
  },
  "language_info": {
   "codemirror_mode": {
    "name": "ipython",
    "version": 2
   },
   "file_extension": ".py",
   "mimetype": "text/x-python",
   "name": "python",
   "nbconvert_exporter": "python",
   "pygments_lexer": "ipython2",
   "version": "2.7.6"
  }
 },
 "nbformat": 4,
 "nbformat_minor": 5
}
