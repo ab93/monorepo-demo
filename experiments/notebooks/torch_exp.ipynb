{
 "cells": [
  {
   "cell_type": "code",
   "id": "initial_id",
   "metadata": {
    "collapsed": true,
    "ExecuteTime": {
     "end_time": "2025-02-07T02:54:49.475814Z",
     "start_time": "2025-02-07T02:54:49.470871Z"
    }
   },
   "source": [
    "from torch import nn\n",
    "import torch.nn.functional as F\n",
    "import torch\n",
    "\n",
    "class DummyModel(nn.Module):\n",
    "    def __init__(self, num_features: int = 3):\n",
    "        super().__init__()\n",
    "        self.fc_1 = nn.Linear(num_features, 10)\n",
    "        self.fc_2 = nn.Linear(10, 1)\n",
    "\n",
    "    def forward(self, x):\n",
    "        return F.sigmoid(self.fc_2(F.relu(self.fc_1(x))))"
   ],
   "outputs": [],
   "execution_count": 3
  },
  {
   "metadata": {
    "ExecuteTime": {
     "end_time": "2025-02-07T02:55:22.685206Z",
     "start_time": "2025-02-07T02:55:22.673124Z"
    }
   },
   "cell_type": "code",
   "source": [
    "from data_connector import DummyDataFetcher\n",
    "fetcher = DummyDataFetcher()\n",
    "\n",
    "x_train, y_train = fetcher.fetch(1000)\n",
    "x_train = torch.tensor(x_train.to_numpy())\n",
    "y_train = torch.tensor(y_train.to_numpy())\n",
    "x_train.shape, y_train.shape"
   ],
   "id": "439393cfb38dd7d1",
   "outputs": [
    {
     "data": {
      "text/plain": [
       "(torch.Size([1000, 3]), torch.Size([1000]))"
      ]
     },
     "execution_count": 5,
     "metadata": {},
     "output_type": "execute_result"
    }
   ],
   "execution_count": 5
  }
 ],
 "metadata": {
  "kernelspec": {
   "display_name": "Python 3",
   "language": "python",
   "name": "python3"
  },
  "language_info": {
   "codemirror_mode": {
    "name": "ipython",
    "version": 2
   },
   "file_extension": ".py",
   "mimetype": "text/x-python",
   "name": "python",
   "nbconvert_exporter": "python",
   "pygments_lexer": "ipython2",
   "version": "2.7.6"
  }
 },
 "nbformat": 4,
 "nbformat_minor": 5
}
